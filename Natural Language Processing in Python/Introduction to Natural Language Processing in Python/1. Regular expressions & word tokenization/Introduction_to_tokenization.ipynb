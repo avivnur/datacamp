{
  "nbformat": 4,
  "nbformat_minor": 0,
  "metadata": {
    "colab": {
      "provenance": []
    },
    "kernelspec": {
      "name": "python3",
      "display_name": "Python 3"
    },
    "language_info": {
      "name": "python"
    }
  },
  "cells": [
    {
      "cell_type": "markdown",
      "source": [
        "# Word tokenization with NLTK\n",
        "\n",
        "Here, you'll be using the first scene of Monty Python's Holy Grail, which has been pre-loaded as scene_one. Feel free to check it out in the IPython Shell!\n",
        "\n",
        "Your job in this exercise is to utilize word_tokenize and sent_tokenize from nltk.tokenize to tokenize both words and sentences from Python strings - in this case, the first scene of Monty Python's Holy Grail."
      ],
      "metadata": {
        "id": "7jL7CalYgwl8"
      }
    },
    {
      "cell_type": "code",
      "source": [
        "import nltk\n",
        "nltk.download('punkt')"
      ],
      "metadata": {
        "colab": {
          "base_uri": "https://localhost:8080/"
        },
        "id": "kPPQ6QxpfVVt",
        "outputId": "89cfa1ff-db32-4c68-9f0c-2e69ca77a792"
      },
      "execution_count": 8,
      "outputs": [
        {
          "output_type": "stream",
          "name": "stderr",
          "text": [
            "[nltk_data] Downloading package punkt to /root/nltk_data...\n",
            "[nltk_data]   Package punkt is already up-to-date!\n"
          ]
        },
        {
          "output_type": "execute_result",
          "data": {
            "text/plain": [
              "True"
            ]
          },
          "metadata": {},
          "execution_count": 8
        }
      ]
    },
    {
      "cell_type": "code",
      "execution_count": 9,
      "metadata": {
        "id": "cTlfDLSseFeV"
      },
      "outputs": [],
      "source": [
        "# Import necessary modules\n",
        "from nltk.tokenize import sent_tokenize\n",
        "from nltk.tokenize import word_tokenize"
      ]
    },
    {
      "cell_type": "code",
      "source": [
        "scene_one = \"SCENE 1: [wind] [clop clop clop] \\nKING ARTHUR: Whoa there!  [clop clop clop] \\nSOLDIER #1: Halt!  Who goes there?\\nARTHUR: It is I, Arthur, son of Uther Pendragon, from the castle of Camelot.  King of the Britons, defeator of the Saxons, sovereign of all England!\\nSOLDIER #1: Pull the other one!\\nARTHUR: I am, ...  and this is my trusty servant Patsy.  We have ridden the length and breadth of the land in search of knights who will join me in my court at Camelot.  I must speak with your lord and master.\\nSOLDIER #1: What?  Ridden on a horse?\\nARTHUR: Yes!\\nSOLDIER #1: You're using coconuts!\\nARTHUR: What?\\nSOLDIER #1: You've got two empty halves of coconut and you're bangin' 'em together.\\nARTHUR: So?  We have ridden since the snows of winter covered this land, through the kingdom of Mercea, through--\\nSOLDIER #1: Where'd you get the coconuts?\\nARTHUR: We found them.\\nSOLDIER #1: Found them?  In Mercea?  The coconut's tropical!\\nARTHUR: What do you mean?\\nSOLDIER #1: Well, this is a temperate zone.\\nARTHUR: The swallow may fly south with the sun or the house martin or the plover may seek warmer climes in winter, yet these are not strangers to our land?\\nSOLDIER #1: Are you suggesting coconuts migrate?\\nARTHUR: Not at all.  They could be carried.\\nSOLDIER #1: What?  A swallow carrying a coconut?\\nARTHUR: It could grip it by the husk!\\nSOLDIER #1: It's not a question of where he grips it!  It's a simple question of weight ratios!  A five ounce bird could not carry a one pound coconut.\\nARTHUR: Well, it doesn't matter.  Will you go and tell your master that Arthur from the Court of Camelot is here.\\nSOLDIER #1: Listen.  In order to maintain air-speed velocity, a swallow needs to beat its wings forty-three times every second, right?\\nARTHUR: Please!\\nSOLDIER #1: Am I right?\\nARTHUR: I'm not interested!\\nSOLDIER #2: It could be carried by an African swallow!\\nSOLDIER #1: Oh, yeah, an African swallow maybe, but not a European swallow.  That's my point.\\nSOLDIER #2: Oh, yeah, I agree with that.\\nARTHUR: Will you ask your master if he wants to join my court at Camelot?!\\nSOLDIER #1: But then of course a-- African swallows are non-migratory.\\nSOLDIER #2: Oh, yeah...\\nSOLDIER #1: So they couldn't bring a coconut back anyway...  [clop clop clop] \\nSOLDIER #2: Wait a minute!  Supposing two swallows carried it together?\\nSOLDIER #1: No, they'd have to have it on a line.\\nSOLDIER #2: Well, simple!  They'd just use a strand of creeper!\\nSOLDIER #1: What, held under the dorsal guiding feathers?\\nSOLDIER #2: Well, why not?\\n\""
      ],
      "metadata": {
        "id": "dT6vYpgeeh-8"
      },
      "execution_count": 10,
      "outputs": []
    },
    {
      "cell_type": "code",
      "source": [
        "# Split scene_one into sentences: sentences\n",
        "sentences = sent_tokenize(scene_one)"
      ],
      "metadata": {
        "id": "hsFGtAVAevjE"
      },
      "execution_count": 11,
      "outputs": []
    },
    {
      "cell_type": "code",
      "source": [
        "# Use word_tokenize to tokenize the fourth sentence: tokenized_sent\n",
        "tokenized_sent = word_tokenize(sentences[3])"
      ],
      "metadata": {
        "id": "uev1VVqqf7_q"
      },
      "execution_count": 12,
      "outputs": []
    },
    {
      "cell_type": "code",
      "source": [
        "# Make a set of unique tokens in the entire scene: unique_tokens\n",
        "unique_tokens = set(word_tokenize(scene_one))"
      ],
      "metadata": {
        "id": "cdHW5sZRgTSa"
      },
      "execution_count": 13,
      "outputs": []
    },
    {
      "cell_type": "code",
      "source": [
        "# Print the unique tokens result\n",
        "print(unique_tokens)"
      ],
      "metadata": {
        "colab": {
          "base_uri": "https://localhost:8080/"
        },
        "id": "xqhsCOMIgg42",
        "outputId": "333cc753-1cf8-46f1-9ba7-bf1aba65d2a7"
      },
      "execution_count": 14,
      "outputs": [
        {
          "output_type": "stream",
          "name": "stdout",
          "text": [
            "{'ridden', 'Saxons', 'That', \"'m\", '2', 'from', 'master', 'Listen', 'length', 'you', 'feathers', 'defeator', 'one', 'course', 'Pull', 'do', 'search', 'Well', \"'re\", \"'s\", 'an', 'found', 'its', 'that', 'line', 'on', 'ask', 'African', 'with', 'other', \"'d\", 'there', \"'\", 'trusty', 'carried', 'join', 'It', '...', 'second', 'two', 'under', 'anyway', 'We', 'it', 'maintain', 'sun', 'forty-three', 'Ridden', 'tropical', 'strand', 'ARTHUR', 'yet', 'Patsy', 'Are', '[', 'will', 'grip', 'Pendragon', 'and', 'ounce', 'all', 'Mercea', 'You', 'No', 'zone', 'carry', '1', 'grips', 'bird', 'coconut', 'since', 'Am', 'A', 'of', 'am', 'son', 'castle', 'who', 'does', 'winter', '--', 'wings', 'climes', 'simple', 'temperate', 'air-speed', 'here', 'agree', 'Whoa', 'have', ':', ',', 'Uther', 'they', 'point', 'Please', 'creeper', 'England', 'together', 'south', 'guiding', 'covered', 'this', 'or', 'held', 'but', 'these', 'empty', 'Not', 'use', 'speak', 'warmer', 'bring', 'may', 'tell', 'carrying', 'kingdom', 'me', 'coconuts', 'not', 'Camelot', 'could', 'them', 'fly', 'servant', 'times', 'bangin', 'five', 'maybe', 'get', 'Halt', 'at', 'plover', 'ratios', 'non-migratory', 'court', 'the', 'breadth', 'go', 'right', 'They', 'husk', 'mean', '#', 'back', 'Found', 'must', \"'ve\", ']', 'Where', 'strangers', 'your', 'seek', 'suggesting', 'he', 'Supposing', 'goes', 'are', 'The', 'clop', 'King', 'velocity', '?', 'needs', 'migrate', \"n't\", 'Will', 'Yes', 'every', 'weight', 'got', 'lord', 'matter', '!', 'In', 'Britons', 'sovereign', 'SOLDIER', 'Oh', 'dorsal', 'land', 'So', 'be', 'question', 'is', 'a', 'beat', 'But', 'our', 'by', 'Court', '.', 'using', 'knights', 'if', 'KING', 'martin', 'through', 'swallows', 'Who', 'minute', 'house', 'I', 'my', 'horse', 'Arthur', 'yeah', 'interested', 'Wait', 'why', 'snows', 'pound', 'just', 'SCENE', \"'em\", 'where', 'European', 'halves', 'to', 'wants', 'in', 'swallow', 'order', 'wind', 'then', 'What'}\n"
          ]
        }
      ]
    },
    {
      "cell_type": "markdown",
      "source": [
        "# More regex with re.search()\n",
        "\n",
        "In this exercise, you'll utilize re.search() and re.match() to find specific tokens. Both search and match expect regex patterns, similar to those you defined in an earlier exercise. You'll apply these regex library methods to the same Monty Python text from the nltk corpora.\n",
        "\n",
        "You have both scene_one and sentences available from the last exercise; now you can use them with re.search() and re.match() to extract and match more text."
      ],
      "metadata": {
        "id": "gbw5Z4Gxg42I"
      }
    },
    {
      "cell_type": "code",
      "source": [
        "import re\n",
        "\n",
        "# Search for the first occurrence of \"coconuts\" in scene_one: match\n",
        "match = re.search(\"coconuts\", scene_one)"
      ],
      "metadata": {
        "id": "cDS8aaXwgigE"
      },
      "execution_count": 15,
      "outputs": []
    },
    {
      "cell_type": "code",
      "source": [
        "print(match.start(), match.end())"
      ],
      "metadata": {
        "colab": {
          "base_uri": "https://localhost:8080/"
        },
        "id": "zSgo2UlBhLMv",
        "outputId": "589cde2d-ee33-4c43-b977-d513c836d1cc"
      },
      "execution_count": 16,
      "outputs": [
        {
          "output_type": "stream",
          "name": "stdout",
          "text": [
            "580 588\n"
          ]
        }
      ]
    },
    {
      "cell_type": "code",
      "source": [
        "# Write a regular expression to search for anything in square brackets: pattern1\n",
        "pattern1 = r\"\\[.*\\]\"\n",
        "\n",
        "# Use re.search to find the first text in square brackets\n",
        "print(re.search(pattern1, scene_one))"
      ],
      "metadata": {
        "colab": {
          "base_uri": "https://localhost:8080/"
        },
        "id": "rih7gOTnhQed",
        "outputId": "5028d6d7-8701-4cac-8873-649df0888b26"
      },
      "execution_count": 17,
      "outputs": [
        {
          "output_type": "stream",
          "name": "stdout",
          "text": [
            "<re.Match object; span=(9, 32), match='[wind] [clop clop clop]'>\n"
          ]
        }
      ]
    },
    {
      "cell_type": "code",
      "source": [
        "# Find the script notation at the beginning of the fourth sentence and print it\n",
        "pattern2 = r\"[\\w\\s]+:\"\n",
        "print(re.match(pattern2, sentences[3]))"
      ],
      "metadata": {
        "colab": {
          "base_uri": "https://localhost:8080/"
        },
        "id": "ZVbKgxaWhoyC",
        "outputId": "d7000c07-9400-4413-cfb1-6c1bfe9a8ca3"
      },
      "execution_count": 18,
      "outputs": [
        {
          "output_type": "stream",
          "name": "stdout",
          "text": [
            "<re.Match object; span=(0, 7), match='ARTHUR:'>\n"
          ]
        }
      ]
    },
    {
      "cell_type": "code",
      "source": [],
      "metadata": {
        "id": "eT6tyIV9iMaY"
      },
      "execution_count": null,
      "outputs": []
    }
  ]
}